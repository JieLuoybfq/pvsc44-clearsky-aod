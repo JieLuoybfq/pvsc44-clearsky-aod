{
 "cells": [
  {
   "cell_type": "markdown",
   "metadata": {},
   "source": [
    "From the [PVSC44 TL sensitivity](PVSC44%20TL%20sensitivity.ipynb) we concluded that:\n",
    "    \n",
    "* Overal MACC data is higher than corresponding static or optimized $T_L$ which leads to low dyanamic predictions.\n",
    "* For at least 3 SURFRAD stations: bon, psu and sxf high $T_L$ in summer caused a seasonal bias in GHI predictions.\n",
    "* For the high elevation stations: tbl and dra, that also have very high DNI and low DHI, optimization of $T_L$ led\n",
    "  to unphysical values, indicating that another factor may, such as sensor error, may be affecting predictions more than\n",
    "  atmospheric conditions."
   ]
  },
  {
   "cell_type": "code",
   "execution_count": null,
   "metadata": {
    "collapsed": true
   },
   "outputs": [],
   "source": []
  }
 ],
 "metadata": {
  "kernelspec": {
   "display_name": "Python 2",
   "language": "python",
   "name": "python2"
  },
  "language_info": {
   "codemirror_mode": {
    "name": "ipython",
    "version": 2
   },
   "file_extension": ".py",
   "mimetype": "text/x-python",
   "name": "python",
   "nbconvert_exporter": "python",
   "pygments_lexer": "ipython2",
   "version": "2.7.13"
  }
 },
 "nbformat": 4,
 "nbformat_minor": 2
}
